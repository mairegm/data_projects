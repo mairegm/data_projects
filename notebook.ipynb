{
 "cells": [
  {
   "cell_type": "markdown",
   "id": "5ed0ca94-e3ab-4fab-a5a3-5eb0307b6c26",
   "metadata": {},
   "source": [
    "![gym](gym.png)\n"
   ]
  },
  {
   "cell_type": "markdown",
   "id": "7ee8ccb9-c762-4f35-9b79-ebd2ab1824b0",
   "metadata": {},
   "source": [
    "You are a product manager for a fitness studio and are interested in understanding the current demand for digital fitness classes. You plan to conduct a market analysis in Python to gauge demand and identify potential areas for growth of digital products and services.\n",
    "\n",
    "### The Data\n",
    "\n",
    "You are provided with a number of CSV files in the \"Files/data\" folder, which offer international and national-level data on Google Trends keyword searches related to fitness and related products. \n",
    "\n",
    "### workout.csv\n",
    "\n",
    "| Column     | Description              |\n",
    "|------------|--------------------------|\n",
    "| `'month'` | Month when the data was measured. |\n",
    "| `'workout_worldwide'` | Index representing the popularity of the keyword 'workout', on a scale of 0 to 100. |\n",
    "\n",
    "### three_keywords.csv\n",
    "\n",
    "| Column     | Description              |\n",
    "|------------|--------------------------|\n",
    "| `'month'` | Month when the data was measured. |\n",
    "| `'home_workout_worldwide'` | Index representing the popularity of the keyword 'home workout', on a scale of 0 to 100. |\n",
    "| `'gym_workout_worldwide'` | Index representing the popularity of the keyword 'gym workout', on a scale of 0 to 100. |\n",
    "| `'home_gym_worldwide'` | Index representing the popularity of the keyword 'home gym', on a scale of 0 to 100. |\n",
    "\n",
    "### workout_geo.csv\n",
    "\n",
    "| Column     | Description              |\n",
    "|------------|--------------------------|\n",
    "| `'country'` | Country where the data was measured. |\n",
    "| `'workout_2018_2023'` | Index representing the popularity of the keyword 'workout' during the 5 year period. |\n",
    "\n",
    "### three_keywords_geo.csv\n",
    "\n",
    "| Column     | Description              |\n",
    "|------------|--------------------------|\n",
    "| `'country'` | Country where the data was measured. |\n",
    "| `'home_workout_2018_2023'` | Index representing the popularity of the keyword 'home workout' during the 5 year period. |\n",
    "| `'gym_workout_2018_2023'` | Index representing the popularity of the keyword 'gym workout' during the 5 year period.  |\n",
    "| `'home_gym_2018_2023'` | Index representing the popularity of the keyword 'home gym' during the 5 year period. |"
   ]
  },
  {
   "cell_type": "code",
   "execution_count": 9,
   "id": "36e5d14e-3f2b-4123-97a3-d11880a7a047",
   "metadata": {
    "executionCancelledAt": null,
    "executionTime": 46,
    "lastExecutedAt": 1745507296957,
    "lastExecutedByKernel": "95fb344c-4c4b-40b2-a70d-af83ef0ef803",
    "lastScheduledRunId": null,
    "lastSuccessfullyExecutedCode": "# Import the necessary libraries\nimport pandas as pd\nimport matplotlib.pyplot as plt",
    "outputsMetadata": {
     "0": {
      "height": 321,
      "type": "dataFrame"
     }
    }
   },
   "outputs": [],
   "source": [
    "# Import the necessary libraries\n",
    "import pandas as pd\n",
    "import matplotlib.pyplot as plt"
   ]
  },
  {
   "cell_type": "code",
   "execution_count": 10,
   "id": "c303a942-ddac-498d-981e-0b7755259f3f",
   "metadata": {
    "executionCancelledAt": null,
    "executionTime": 52,
    "lastExecutedAt": 1745507297009,
    "lastExecutedByKernel": "95fb344c-4c4b-40b2-a70d-af83ef0ef803",
    "lastScheduledRunId": null,
    "lastSuccessfullyExecutedCode": "# Start coding here\nworkout = pd.read_csv('data/workout.csv')\n\n#workout['workout_worldwide'] = pd.to_datetime(workout['month'])\n\nworkout_peak = workout.loc[workout['workout_worldwide'] == 100, 'month'].iloc[0]\n\nyear_str = workout_peak.split('-')[0]\n\nprint(year_str)",
    "outputsMetadata": {
     "0": {
      "height": 38,
      "type": "stream"
     }
    }
   },
   "outputs": [
    {
     "name": "stdout",
     "output_type": "stream",
     "text": [
      "2020\n"
     ]
    }
   ],
   "source": [
    "# Start coding here\n",
    "workout = pd.read_csv('data/workout.csv')\n",
    "\n",
    "#workout['workout_worldwide'] = pd.to_datetime(workout['month'])\n",
    "\n",
    "workout_peak = workout.loc[workout['workout_worldwide'] == 100, 'month'].iloc[0]\n",
    "\n",
    "year_str = workout_peak.split('-')[0]\n",
    "\n",
    "print(year_str)"
   ]
  },
  {
   "cell_type": "code",
   "execution_count": 11,
   "id": "ed591634-3a3b-421f-8388-d95ab25f70ea",
   "metadata": {
    "executionCancelledAt": null,
    "executionTime": 48,
    "lastExecutedAt": 1745507297057,
    "lastExecutedByKernel": "95fb344c-4c4b-40b2-a70d-af83ef0ef803",
    "lastScheduledRunId": null,
    "lastSuccessfullyExecutedCode": "keywords = pd.read_csv('data/three_keywords.csv')\n\nkeywords_covid = keywords[keywords['month'].str.split('-').str[0].astype(int) == 2020]\n\ntotales = keywords_covid[\n    ['home_workout_worldwide',\n     'gym_workout_worldwide',\n     'home_gym_worldwide']\n].sum()\n\npeak_covid  = totales.idxmax()\n\nprint(peak_covid)\n#print(totales.sort_values(ascending=False))\ncurrent_keywords = keywords[keywords['month'].str.split('-').str[0].astype(int) == 2023].copy()\n\ntotales_c = current_keywords[\n    ['home_workout_worldwide',\n     'gym_workout_worldwide',\n     'home_gym_worldwide']\n].sum()\n\ncurrent  = totales_c.idxmax()\n\nprint(current)",
    "outputsMetadata": {
     "0": {
      "height": 59,
      "type": "stream"
     }
    }
   },
   "outputs": [
    {
     "name": "stdout",
     "output_type": "stream",
     "text": [
      "home_workout_worldwide\n",
      "gym_workout_worldwide\n"
     ]
    }
   ],
   "source": [
    "keywords = pd.read_csv('data/three_keywords.csv')\n",
    "\n",
    "keywords_covid = keywords[keywords['month'].str.split('-').str[0].astype(int) == 2020]\n",
    "\n",
    "totales = keywords_covid[\n",
    "    ['home_workout_worldwide',\n",
    "     'gym_workout_worldwide',\n",
    "     'home_gym_worldwide']\n",
    "].sum()\n",
    "\n",
    "peak_covid  = totales.idxmax()\n",
    "\n",
    "print(peak_covid)\n",
    "#print(totales.sort_values(ascending=False))\n",
    "current_keywords = keywords[keywords['month'].str.split('-').str[0].astype(int) == 2023].copy()\n",
    "\n",
    "totales_c = current_keywords[\n",
    "    ['home_workout_worldwide',\n",
    "     'gym_workout_worldwide',\n",
    "     'home_gym_worldwide']\n",
    "].sum()\n",
    "\n",
    "current  = totales_c.idxmax()\n",
    "\n",
    "print(current)"
   ]
  },
  {
   "cell_type": "code",
   "execution_count": 12,
   "id": "02f4c15b-3879-4a70-95cb-bb52b8a313c2",
   "metadata": {
    "executionCancelledAt": null,
    "executionTime": 48,
    "lastExecutedAt": 1745507297105,
    "lastExecutedByKernel": "95fb344c-4c4b-40b2-a70d-af83ef0ef803",
    "lastScheduledRunId": null,
    "lastSuccessfullyExecutedCode": "workout_geo = pd.read_csv('data/workout_geo.csv')\nhome_workout_geo = workout_geo[workout_geo['country'].isin(['Philippines', 'Malaysia'])]['country'].max()\nprint(home_workout_geo)",
    "outputsMetadata": {
     "0": {
      "height": 38,
      "type": "stream"
     }
    }
   },
   "outputs": [
    {
     "name": "stdout",
     "output_type": "stream",
     "text": [
      "Philippines\n"
     ]
    }
   ],
   "source": [
    "workout_geo = pd.read_csv('data/workout_geo.csv')\n",
    "home_workout_geo = workout_geo[workout_geo['country'].isin(['Philippines', 'Malaysia'])]['country'].max()\n",
    "print(home_workout_geo)"
   ]
  },
  {
   "cell_type": "code",
   "execution_count": null,
   "id": "b95d1c9d-5e55-410c-b352-686517d7e1d5",
   "metadata": {
    "executionCancelledAt": null,
    "executionTime": 52,
    "lastExecutedAt": 1745507297157,
    "lastExecutedByKernel": "95fb344c-4c4b-40b2-a70d-af83ef0ef803",
    "lastScheduledRunId": null,
    "lastSuccessfullyExecutedCode": "top_country = workout_geo[workout_geo['country'].isin(['United States', 'Australia', 'Japan'])]['country'].max()\ntop_country",
    "outputsMetadata": {
     "0": {
      "height": 50,
      "tableState": {
       "customFilter": {
        "const": {
         "type": "boolean",
         "valid": true,
         "value": true
        },
        "id": "75abafd0-7e6d-4c71-8dcc-e3dfc8aa572a",
        "nodeType": "const"
       }
      },
      "type": "dataFrame"
     }
    }
   },
   "outputs": [
    {
     "data": {
      "text/plain": [
       "'United States'"
      ]
     },
     "execution_count": 13,
     "metadata": {},
     "output_type": "execute_result"
    }
   ],
   "source": [
    "top_country = workout_geo[workout_geo['country'].isin(['United States', 'Australia', 'Japan'])]['country'].max()\n",
    "top_country"
   ]
  }
 ],
 "metadata": {
  "colab": {
   "name": "Welcome to DataCamp Workspaces.ipynb",
   "provenance": []
  },
  "editor": "DataLab",
  "kernelspec": {
   "display_name": "Python 3",
   "language": "python",
   "name": "python3"
  },
  "language_info": {
   "codemirror_mode": {
    "name": "ipython",
    "version": 3
   },
   "file_extension": ".py",
   "mimetype": "text/x-python",
   "name": "python",
   "nbconvert_exporter": "python",
   "pygments_lexer": "ipython3",
   "version": "3.11.9"
  }
 },
 "nbformat": 4,
 "nbformat_minor": 5
}
